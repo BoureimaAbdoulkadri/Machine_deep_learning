{
 "cells": [
  {
   "cell_type": "code",
   "execution_count": 15,
   "outputs": [
    {
     "name": "stdout",
     "output_type": "stream",
     "text": [
      "Requirement already satisfied: sklearn in /opt/anaconda3/lib/python3.9/site-packages (0.0.post7)\r\n"
     ]
    }
   ],
   "source": [
    "!pip install sklearn"
   ],
   "metadata": {
    "collapsed": false,
    "ExecuteTime": {
     "start_time": "2023-09-04T14:28:06.967876Z",
     "end_time": "2023-09-04T14:28:09.064887Z"
    }
   }
  },
  {
   "cell_type": "code",
   "execution_count": 16,
   "metadata": {
    "ExecuteTime": {
     "start_time": "2023-09-04T14:28:09.068207Z",
     "end_time": "2023-09-04T14:28:10.894660Z"
    }
   },
   "outputs": [
    {
     "name": "stdout",
     "output_type": "stream",
     "text": [
      "Requirement already satisfied: seaborn in /opt/anaconda3/lib/python3.9/site-packages (0.11.2)\r\n",
      "Requirement already satisfied: numpy>=1.15 in /opt/anaconda3/lib/python3.9/site-packages (from seaborn) (1.21.5)\r\n",
      "Requirement already satisfied: pandas>=0.23 in /opt/anaconda3/lib/python3.9/site-packages (from seaborn) (1.4.4)\r\n",
      "Requirement already satisfied: scipy>=1.0 in /opt/anaconda3/lib/python3.9/site-packages (from seaborn) (1.9.1)\r\n",
      "Requirement already satisfied: matplotlib>=2.2 in /opt/anaconda3/lib/python3.9/site-packages (from seaborn) (3.5.2)\r\n",
      "Requirement already satisfied: pyparsing>=2.2.1 in /opt/anaconda3/lib/python3.9/site-packages (from matplotlib>=2.2->seaborn) (3.0.9)\r\n",
      "Requirement already satisfied: pillow>=6.2.0 in /opt/anaconda3/lib/python3.9/site-packages (from matplotlib>=2.2->seaborn) (9.2.0)\r\n",
      "Requirement already satisfied: packaging>=20.0 in /opt/anaconda3/lib/python3.9/site-packages (from matplotlib>=2.2->seaborn) (21.3)\r\n",
      "Requirement already satisfied: kiwisolver>=1.0.1 in /opt/anaconda3/lib/python3.9/site-packages (from matplotlib>=2.2->seaborn) (1.4.2)\r\n",
      "Requirement already satisfied: cycler>=0.10 in /opt/anaconda3/lib/python3.9/site-packages (from matplotlib>=2.2->seaborn) (0.11.0)\r\n",
      "Requirement already satisfied: python-dateutil>=2.7 in /opt/anaconda3/lib/python3.9/site-packages (from matplotlib>=2.2->seaborn) (2.8.2)\r\n",
      "Requirement already satisfied: fonttools>=4.22.0 in /opt/anaconda3/lib/python3.9/site-packages (from matplotlib>=2.2->seaborn) (4.25.0)\r\n",
      "Requirement already satisfied: pytz>=2020.1 in /opt/anaconda3/lib/python3.9/site-packages (from pandas>=0.23->seaborn) (2022.1)\r\n",
      "Requirement already satisfied: six>=1.5 in /opt/anaconda3/lib/python3.9/site-packages (from python-dateutil>=2.7->matplotlib>=2.2->seaborn) (1.16.0)\r\n"
     ]
    }
   ],
   "source": [
    "import numpy as np\n",
    "import pandas as pd\n",
    "import matplotlib.pyplot as plt\n",
    "!pip install seaborn\n",
    "import seaborn as sns\n",
    "from sklearn import cluster"
   ]
  },
  {
   "cell_type": "code",
   "execution_count": 17,
   "metadata": {
    "scrolled": true,
    "ExecuteTime": {
     "start_time": "2023-09-04T14:28:10.898940Z",
     "end_time": "2023-09-04T14:28:10.925577Z"
    }
   },
   "outputs": [
    {
     "data": {
      "text/plain": "                    calories  sodium  calcium  lipides  retinol  folates  \\\nFromages                                                                   \nCarredelEst              314   353.5     72.6     26.3     51.6     30.3   \nBabybel                  314   238.0    209.8     25.1     63.7      6.4   \nBeaufort                 401   112.0    259.4     33.3     54.9      1.2   \nBleu                     342   336.0    211.1     28.9     37.1     27.5   \nCamembert                264   314.0    215.9     19.5    103.0     36.4   \nCantal                   367   256.0    264.0     28.8     48.8      5.7   \nChabichou                344   192.0     87.2     27.9     90.1     36.3   \nChaource                 292   276.0    132.9     25.4    116.4     32.5   \nCheddar                  406   172.0    182.3     32.5     76.4      4.9   \nComte                    399    92.0    220.5     32.4     55.9      1.3   \nCoulomniers              308   222.0     79.2     25.6     63.6     21.1   \nEdam                     327   148.0    272.2     24.7     65.7      5.5   \nEmmental                 378    60.0    308.2     29.4     56.3      2.4   \nFr.chevrepatemolle       206   160.0     72.8     18.5    150.5     31.0   \nFr.fondu.45              292   390.0    168.5     24.0     77.4      5.5   \nFr.frais20nat.            80    41.0    146.3      3.5     50.0     20.0   \nFr.frais40nat.           115    25.0     94.8      7.8     64.3     22.6   \nMaroilles                338   311.0    236.7     29.1     46.7      3.6   \nMorbier                  347   285.0    219.0     29.5     57.6      5.8   \nParmesan                 381   240.0    334.6     27.5     90.0      5.2   \nPetitsuisse40            142    22.0     78.2     10.4     63.4     20.4   \nPontlEveque              300   223.0    156.7     23.4     53.0      4.0   \nPyrenees                 355   232.0    178.9     28.0     51.5      6.8   \nReblochon                309   272.0    202.3     24.6     73.1      8.1   \nRocquefort               370   432.0    162.0     31.2     83.5     13.3   \nSaintPaulin              298   205.0    261.0     23.3     60.4      6.7   \nTome                     321   252.0    125.5     27.3     62.3      6.2   \nVacherin                 321   140.0    218.0     29.3     49.2      3.7   \nYaourtlaitent.nat.        70    91.0    215.7      3.4     42.9      2.9   \n\n                    proteines  cholesterol  magnesium  \nFromages                                               \nCarredelEst              21.0           70         20  \nBabybel                  22.6           70         27  \nBeaufort                 26.6          120         41  \nBleu                     20.2           90         27  \nCamembert                23.4           60         20  \nCantal                   23.0           90         30  \nChabichou                19.5           80         36  \nChaource                 17.8           70         25  \nCheddar                  26.0          110         28  \nComte                    29.2          120         51  \nCoulomniers              20.5           80         13  \nEdam                     24.7           80         44  \nEmmental                 29.4          110         45  \nFr.chevrepatemolle       11.1           50         16  \nFr.fondu.45              16.8           70         20  \nFr.frais20nat.            8.3           10         11  \nFr.frais40nat.            7.0           30         10  \nMaroilles                20.4           90         40  \nMorbier                  23.6           80         30  \nParmesan                 35.7           80         46  \nPetitsuisse40             9.4           20         10  \nPontlEveque              21.1           70         22  \nPyrenees                 22.4           90         25  \nReblochon                19.7           80         30  \nRocquefort               18.7          100         25  \nSaintPaulin              23.3           70         26  \nTome                     21.8           80         20  \nVacherin                 17.6           80         30  \nYaourtlaitent.nat.        4.1           13         14  ",
      "text/html": "<div>\n<style scoped>\n    .dataframe tbody tr th:only-of-type {\n        vertical-align: middle;\n    }\n\n    .dataframe tbody tr th {\n        vertical-align: top;\n    }\n\n    .dataframe thead th {\n        text-align: right;\n    }\n</style>\n<table border=\"1\" class=\"dataframe\">\n  <thead>\n    <tr style=\"text-align: right;\">\n      <th></th>\n      <th>calories</th>\n      <th>sodium</th>\n      <th>calcium</th>\n      <th>lipides</th>\n      <th>retinol</th>\n      <th>folates</th>\n      <th>proteines</th>\n      <th>cholesterol</th>\n      <th>magnesium</th>\n    </tr>\n    <tr>\n      <th>Fromages</th>\n      <th></th>\n      <th></th>\n      <th></th>\n      <th></th>\n      <th></th>\n      <th></th>\n      <th></th>\n      <th></th>\n      <th></th>\n    </tr>\n  </thead>\n  <tbody>\n    <tr>\n      <th>CarredelEst</th>\n      <td>314</td>\n      <td>353.5</td>\n      <td>72.6</td>\n      <td>26.3</td>\n      <td>51.6</td>\n      <td>30.3</td>\n      <td>21.0</td>\n      <td>70</td>\n      <td>20</td>\n    </tr>\n    <tr>\n      <th>Babybel</th>\n      <td>314</td>\n      <td>238.0</td>\n      <td>209.8</td>\n      <td>25.1</td>\n      <td>63.7</td>\n      <td>6.4</td>\n      <td>22.6</td>\n      <td>70</td>\n      <td>27</td>\n    </tr>\n    <tr>\n      <th>Beaufort</th>\n      <td>401</td>\n      <td>112.0</td>\n      <td>259.4</td>\n      <td>33.3</td>\n      <td>54.9</td>\n      <td>1.2</td>\n      <td>26.6</td>\n      <td>120</td>\n      <td>41</td>\n    </tr>\n    <tr>\n      <th>Bleu</th>\n      <td>342</td>\n      <td>336.0</td>\n      <td>211.1</td>\n      <td>28.9</td>\n      <td>37.1</td>\n      <td>27.5</td>\n      <td>20.2</td>\n      <td>90</td>\n      <td>27</td>\n    </tr>\n    <tr>\n      <th>Camembert</th>\n      <td>264</td>\n      <td>314.0</td>\n      <td>215.9</td>\n      <td>19.5</td>\n      <td>103.0</td>\n      <td>36.4</td>\n      <td>23.4</td>\n      <td>60</td>\n      <td>20</td>\n    </tr>\n    <tr>\n      <th>Cantal</th>\n      <td>367</td>\n      <td>256.0</td>\n      <td>264.0</td>\n      <td>28.8</td>\n      <td>48.8</td>\n      <td>5.7</td>\n      <td>23.0</td>\n      <td>90</td>\n      <td>30</td>\n    </tr>\n    <tr>\n      <th>Chabichou</th>\n      <td>344</td>\n      <td>192.0</td>\n      <td>87.2</td>\n      <td>27.9</td>\n      <td>90.1</td>\n      <td>36.3</td>\n      <td>19.5</td>\n      <td>80</td>\n      <td>36</td>\n    </tr>\n    <tr>\n      <th>Chaource</th>\n      <td>292</td>\n      <td>276.0</td>\n      <td>132.9</td>\n      <td>25.4</td>\n      <td>116.4</td>\n      <td>32.5</td>\n      <td>17.8</td>\n      <td>70</td>\n      <td>25</td>\n    </tr>\n    <tr>\n      <th>Cheddar</th>\n      <td>406</td>\n      <td>172.0</td>\n      <td>182.3</td>\n      <td>32.5</td>\n      <td>76.4</td>\n      <td>4.9</td>\n      <td>26.0</td>\n      <td>110</td>\n      <td>28</td>\n    </tr>\n    <tr>\n      <th>Comte</th>\n      <td>399</td>\n      <td>92.0</td>\n      <td>220.5</td>\n      <td>32.4</td>\n      <td>55.9</td>\n      <td>1.3</td>\n      <td>29.2</td>\n      <td>120</td>\n      <td>51</td>\n    </tr>\n    <tr>\n      <th>Coulomniers</th>\n      <td>308</td>\n      <td>222.0</td>\n      <td>79.2</td>\n      <td>25.6</td>\n      <td>63.6</td>\n      <td>21.1</td>\n      <td>20.5</td>\n      <td>80</td>\n      <td>13</td>\n    </tr>\n    <tr>\n      <th>Edam</th>\n      <td>327</td>\n      <td>148.0</td>\n      <td>272.2</td>\n      <td>24.7</td>\n      <td>65.7</td>\n      <td>5.5</td>\n      <td>24.7</td>\n      <td>80</td>\n      <td>44</td>\n    </tr>\n    <tr>\n      <th>Emmental</th>\n      <td>378</td>\n      <td>60.0</td>\n      <td>308.2</td>\n      <td>29.4</td>\n      <td>56.3</td>\n      <td>2.4</td>\n      <td>29.4</td>\n      <td>110</td>\n      <td>45</td>\n    </tr>\n    <tr>\n      <th>Fr.chevrepatemolle</th>\n      <td>206</td>\n      <td>160.0</td>\n      <td>72.8</td>\n      <td>18.5</td>\n      <td>150.5</td>\n      <td>31.0</td>\n      <td>11.1</td>\n      <td>50</td>\n      <td>16</td>\n    </tr>\n    <tr>\n      <th>Fr.fondu.45</th>\n      <td>292</td>\n      <td>390.0</td>\n      <td>168.5</td>\n      <td>24.0</td>\n      <td>77.4</td>\n      <td>5.5</td>\n      <td>16.8</td>\n      <td>70</td>\n      <td>20</td>\n    </tr>\n    <tr>\n      <th>Fr.frais20nat.</th>\n      <td>80</td>\n      <td>41.0</td>\n      <td>146.3</td>\n      <td>3.5</td>\n      <td>50.0</td>\n      <td>20.0</td>\n      <td>8.3</td>\n      <td>10</td>\n      <td>11</td>\n    </tr>\n    <tr>\n      <th>Fr.frais40nat.</th>\n      <td>115</td>\n      <td>25.0</td>\n      <td>94.8</td>\n      <td>7.8</td>\n      <td>64.3</td>\n      <td>22.6</td>\n      <td>7.0</td>\n      <td>30</td>\n      <td>10</td>\n    </tr>\n    <tr>\n      <th>Maroilles</th>\n      <td>338</td>\n      <td>311.0</td>\n      <td>236.7</td>\n      <td>29.1</td>\n      <td>46.7</td>\n      <td>3.6</td>\n      <td>20.4</td>\n      <td>90</td>\n      <td>40</td>\n    </tr>\n    <tr>\n      <th>Morbier</th>\n      <td>347</td>\n      <td>285.0</td>\n      <td>219.0</td>\n      <td>29.5</td>\n      <td>57.6</td>\n      <td>5.8</td>\n      <td>23.6</td>\n      <td>80</td>\n      <td>30</td>\n    </tr>\n    <tr>\n      <th>Parmesan</th>\n      <td>381</td>\n      <td>240.0</td>\n      <td>334.6</td>\n      <td>27.5</td>\n      <td>90.0</td>\n      <td>5.2</td>\n      <td>35.7</td>\n      <td>80</td>\n      <td>46</td>\n    </tr>\n    <tr>\n      <th>Petitsuisse40</th>\n      <td>142</td>\n      <td>22.0</td>\n      <td>78.2</td>\n      <td>10.4</td>\n      <td>63.4</td>\n      <td>20.4</td>\n      <td>9.4</td>\n      <td>20</td>\n      <td>10</td>\n    </tr>\n    <tr>\n      <th>PontlEveque</th>\n      <td>300</td>\n      <td>223.0</td>\n      <td>156.7</td>\n      <td>23.4</td>\n      <td>53.0</td>\n      <td>4.0</td>\n      <td>21.1</td>\n      <td>70</td>\n      <td>22</td>\n    </tr>\n    <tr>\n      <th>Pyrenees</th>\n      <td>355</td>\n      <td>232.0</td>\n      <td>178.9</td>\n      <td>28.0</td>\n      <td>51.5</td>\n      <td>6.8</td>\n      <td>22.4</td>\n      <td>90</td>\n      <td>25</td>\n    </tr>\n    <tr>\n      <th>Reblochon</th>\n      <td>309</td>\n      <td>272.0</td>\n      <td>202.3</td>\n      <td>24.6</td>\n      <td>73.1</td>\n      <td>8.1</td>\n      <td>19.7</td>\n      <td>80</td>\n      <td>30</td>\n    </tr>\n    <tr>\n      <th>Rocquefort</th>\n      <td>370</td>\n      <td>432.0</td>\n      <td>162.0</td>\n      <td>31.2</td>\n      <td>83.5</td>\n      <td>13.3</td>\n      <td>18.7</td>\n      <td>100</td>\n      <td>25</td>\n    </tr>\n    <tr>\n      <th>SaintPaulin</th>\n      <td>298</td>\n      <td>205.0</td>\n      <td>261.0</td>\n      <td>23.3</td>\n      <td>60.4</td>\n      <td>6.7</td>\n      <td>23.3</td>\n      <td>70</td>\n      <td>26</td>\n    </tr>\n    <tr>\n      <th>Tome</th>\n      <td>321</td>\n      <td>252.0</td>\n      <td>125.5</td>\n      <td>27.3</td>\n      <td>62.3</td>\n      <td>6.2</td>\n      <td>21.8</td>\n      <td>80</td>\n      <td>20</td>\n    </tr>\n    <tr>\n      <th>Vacherin</th>\n      <td>321</td>\n      <td>140.0</td>\n      <td>218.0</td>\n      <td>29.3</td>\n      <td>49.2</td>\n      <td>3.7</td>\n      <td>17.6</td>\n      <td>80</td>\n      <td>30</td>\n    </tr>\n    <tr>\n      <th>Yaourtlaitent.nat.</th>\n      <td>70</td>\n      <td>91.0</td>\n      <td>215.7</td>\n      <td>3.4</td>\n      <td>42.9</td>\n      <td>2.9</td>\n      <td>4.1</td>\n      <td>13</td>\n      <td>14</td>\n    </tr>\n  </tbody>\n</table>\n</div>"
     },
     "execution_count": 17,
     "metadata": {},
     "output_type": "execute_result"
    }
   ],
   "source": [
    "df = pd.read_csv('./cheese.txt', sep='\\t')\n",
    "# Ou encore\n",
    "df = df.set_index('Fromages')\n",
    "df.sort_values('cholesterol')\n",
    "df"
   ]
  },
  {
   "cell_type": "code",
   "execution_count": 18,
   "metadata": {
    "ExecuteTime": {
     "start_time": "2023-09-04T14:28:10.924473Z",
     "end_time": "2023-09-04T14:28:10.940008Z"
    }
   },
   "outputs": [
    {
     "data": {
      "text/plain": "         calories      sodium     calcium    lipides     retinol    folates  \\\ncount   29.000000   29.000000   29.000000  29.000000   29.000000  29.000000   \nmean   300.034483  210.086207  185.734483  24.158621   67.562069  13.010345   \nstd     91.914356  108.678923   72.528882   8.129642   24.163098  11.723339   \nmin     70.000000   22.000000   72.600000   3.400000   37.100000   1.200000   \n25%    292.000000  140.000000  132.900000  23.400000   51.600000   4.900000   \n50%    321.000000  223.000000  202.300000  26.300000   62.300000   6.400000   \n75%    355.000000  276.000000  220.500000  29.100000   76.400000  21.100000   \nmax    406.000000  432.000000  334.600000  33.300000  150.500000  36.400000   \n\n       proteines  cholesterol  magnesium  \ncount  29.000000    29.000000  29.000000  \nmean   20.168966    74.586207  26.965517  \nstd     6.959788    28.245755  11.318388  \nmin     4.100000    10.000000  10.000000  \n25%    17.800000    70.000000  20.000000  \n50%    21.000000    80.000000  26.000000  \n75%    23.400000    90.000000  30.000000  \nmax    35.700000   120.000000  51.000000  ",
      "text/html": "<div>\n<style scoped>\n    .dataframe tbody tr th:only-of-type {\n        vertical-align: middle;\n    }\n\n    .dataframe tbody tr th {\n        vertical-align: top;\n    }\n\n    .dataframe thead th {\n        text-align: right;\n    }\n</style>\n<table border=\"1\" class=\"dataframe\">\n  <thead>\n    <tr style=\"text-align: right;\">\n      <th></th>\n      <th>calories</th>\n      <th>sodium</th>\n      <th>calcium</th>\n      <th>lipides</th>\n      <th>retinol</th>\n      <th>folates</th>\n      <th>proteines</th>\n      <th>cholesterol</th>\n      <th>magnesium</th>\n    </tr>\n  </thead>\n  <tbody>\n    <tr>\n      <th>count</th>\n      <td>29.000000</td>\n      <td>29.000000</td>\n      <td>29.000000</td>\n      <td>29.000000</td>\n      <td>29.000000</td>\n      <td>29.000000</td>\n      <td>29.000000</td>\n      <td>29.000000</td>\n      <td>29.000000</td>\n    </tr>\n    <tr>\n      <th>mean</th>\n      <td>300.034483</td>\n      <td>210.086207</td>\n      <td>185.734483</td>\n      <td>24.158621</td>\n      <td>67.562069</td>\n      <td>13.010345</td>\n      <td>20.168966</td>\n      <td>74.586207</td>\n      <td>26.965517</td>\n    </tr>\n    <tr>\n      <th>std</th>\n      <td>91.914356</td>\n      <td>108.678923</td>\n      <td>72.528882</td>\n      <td>8.129642</td>\n      <td>24.163098</td>\n      <td>11.723339</td>\n      <td>6.959788</td>\n      <td>28.245755</td>\n      <td>11.318388</td>\n    </tr>\n    <tr>\n      <th>min</th>\n      <td>70.000000</td>\n      <td>22.000000</td>\n      <td>72.600000</td>\n      <td>3.400000</td>\n      <td>37.100000</td>\n      <td>1.200000</td>\n      <td>4.100000</td>\n      <td>10.000000</td>\n      <td>10.000000</td>\n    </tr>\n    <tr>\n      <th>25%</th>\n      <td>292.000000</td>\n      <td>140.000000</td>\n      <td>132.900000</td>\n      <td>23.400000</td>\n      <td>51.600000</td>\n      <td>4.900000</td>\n      <td>17.800000</td>\n      <td>70.000000</td>\n      <td>20.000000</td>\n    </tr>\n    <tr>\n      <th>50%</th>\n      <td>321.000000</td>\n      <td>223.000000</td>\n      <td>202.300000</td>\n      <td>26.300000</td>\n      <td>62.300000</td>\n      <td>6.400000</td>\n      <td>21.000000</td>\n      <td>80.000000</td>\n      <td>26.000000</td>\n    </tr>\n    <tr>\n      <th>75%</th>\n      <td>355.000000</td>\n      <td>276.000000</td>\n      <td>220.500000</td>\n      <td>29.100000</td>\n      <td>76.400000</td>\n      <td>21.100000</td>\n      <td>23.400000</td>\n      <td>90.000000</td>\n      <td>30.000000</td>\n    </tr>\n    <tr>\n      <th>max</th>\n      <td>406.000000</td>\n      <td>432.000000</td>\n      <td>334.600000</td>\n      <td>33.300000</td>\n      <td>150.500000</td>\n      <td>36.400000</td>\n      <td>35.700000</td>\n      <td>120.000000</td>\n      <td>51.000000</td>\n    </tr>\n  </tbody>\n</table>\n</div>"
     },
     "execution_count": 18,
     "metadata": {},
     "output_type": "execute_result"
    }
   ],
   "source": [
    "## Stats desc\n",
    "# Unidimensionnelle\n",
    "\n",
    "df.describe()"
   ]
  },
  {
   "cell_type": "code",
   "execution_count": 19,
   "metadata": {
    "ExecuteTime": {
     "start_time": "2023-09-04T14:28:10.945276Z",
     "end_time": "2023-09-04T14:28:11.056028Z"
    }
   },
   "outputs": [
    {
     "data": {
      "text/plain": "<AxesSubplot:>"
     },
     "execution_count": 19,
     "metadata": {},
     "output_type": "execute_result"
    }
   ],
   "source": [
    "# df.plot.\n",
    "df.boxplot(rot=45)"
   ]
  },
  {
   "cell_type": "code",
   "execution_count": 20,
   "metadata": {
    "ExecuteTime": {
     "start_time": "2023-09-04T14:28:10.992801Z",
     "end_time": "2023-09-04T14:28:11.056267Z"
    }
   },
   "outputs": [
    {
     "data": {
      "text/plain": "             calories    sodium   calcium   lipides   retinol   folates  \\\ncalories     1.000000  0.447224  0.433400  0.983634 -0.042885 -0.321098   \nsodium       0.447224  1.000000  0.005959  0.483344  0.144328  0.136561   \ncalcium      0.433400  0.005959  1.000000  0.341132 -0.289547 -0.637503   \nlipides      0.983634  0.483344  0.341132  1.000000 -0.018353 -0.276543   \nretinol     -0.042885  0.144328 -0.289547 -0.018353  1.000000  0.517266   \nfolates     -0.321098  0.136561 -0.637503 -0.276543  0.517266  1.000000   \nproteines    0.885372  0.275998  0.610705  0.809303 -0.039173 -0.352871   \ncholesterol  0.961923  0.332994  0.428446  0.955444 -0.086972 -0.366346   \nmagnesium    0.745443  0.031113  0.710480  0.689860 -0.099801 -0.447067   \n\n             proteines  cholesterol  magnesium  \ncalories      0.885372     0.961923   0.745443  \nsodium        0.275998     0.332994   0.031113  \ncalcium       0.610705     0.428446   0.710480  \nlipides       0.809303     0.955444   0.689860  \nretinol      -0.039173    -0.086972  -0.099801  \nfolates      -0.352871    -0.366346  -0.447067  \nproteines     1.000000     0.817138   0.787777  \ncholesterol   0.817138     1.000000   0.752453  \nmagnesium     0.787777     0.752453   1.000000  ",
      "text/html": "<div>\n<style scoped>\n    .dataframe tbody tr th:only-of-type {\n        vertical-align: middle;\n    }\n\n    .dataframe tbody tr th {\n        vertical-align: top;\n    }\n\n    .dataframe thead th {\n        text-align: right;\n    }\n</style>\n<table border=\"1\" class=\"dataframe\">\n  <thead>\n    <tr style=\"text-align: right;\">\n      <th></th>\n      <th>calories</th>\n      <th>sodium</th>\n      <th>calcium</th>\n      <th>lipides</th>\n      <th>retinol</th>\n      <th>folates</th>\n      <th>proteines</th>\n      <th>cholesterol</th>\n      <th>magnesium</th>\n    </tr>\n  </thead>\n  <tbody>\n    <tr>\n      <th>calories</th>\n      <td>1.000000</td>\n      <td>0.447224</td>\n      <td>0.433400</td>\n      <td>0.983634</td>\n      <td>-0.042885</td>\n      <td>-0.321098</td>\n      <td>0.885372</td>\n      <td>0.961923</td>\n      <td>0.745443</td>\n    </tr>\n    <tr>\n      <th>sodium</th>\n      <td>0.447224</td>\n      <td>1.000000</td>\n      <td>0.005959</td>\n      <td>0.483344</td>\n      <td>0.144328</td>\n      <td>0.136561</td>\n      <td>0.275998</td>\n      <td>0.332994</td>\n      <td>0.031113</td>\n    </tr>\n    <tr>\n      <th>calcium</th>\n      <td>0.433400</td>\n      <td>0.005959</td>\n      <td>1.000000</td>\n      <td>0.341132</td>\n      <td>-0.289547</td>\n      <td>-0.637503</td>\n      <td>0.610705</td>\n      <td>0.428446</td>\n      <td>0.710480</td>\n    </tr>\n    <tr>\n      <th>lipides</th>\n      <td>0.983634</td>\n      <td>0.483344</td>\n      <td>0.341132</td>\n      <td>1.000000</td>\n      <td>-0.018353</td>\n      <td>-0.276543</td>\n      <td>0.809303</td>\n      <td>0.955444</td>\n      <td>0.689860</td>\n    </tr>\n    <tr>\n      <th>retinol</th>\n      <td>-0.042885</td>\n      <td>0.144328</td>\n      <td>-0.289547</td>\n      <td>-0.018353</td>\n      <td>1.000000</td>\n      <td>0.517266</td>\n      <td>-0.039173</td>\n      <td>-0.086972</td>\n      <td>-0.099801</td>\n    </tr>\n    <tr>\n      <th>folates</th>\n      <td>-0.321098</td>\n      <td>0.136561</td>\n      <td>-0.637503</td>\n      <td>-0.276543</td>\n      <td>0.517266</td>\n      <td>1.000000</td>\n      <td>-0.352871</td>\n      <td>-0.366346</td>\n      <td>-0.447067</td>\n    </tr>\n    <tr>\n      <th>proteines</th>\n      <td>0.885372</td>\n      <td>0.275998</td>\n      <td>0.610705</td>\n      <td>0.809303</td>\n      <td>-0.039173</td>\n      <td>-0.352871</td>\n      <td>1.000000</td>\n      <td>0.817138</td>\n      <td>0.787777</td>\n    </tr>\n    <tr>\n      <th>cholesterol</th>\n      <td>0.961923</td>\n      <td>0.332994</td>\n      <td>0.428446</td>\n      <td>0.955444</td>\n      <td>-0.086972</td>\n      <td>-0.366346</td>\n      <td>0.817138</td>\n      <td>1.000000</td>\n      <td>0.752453</td>\n    </tr>\n    <tr>\n      <th>magnesium</th>\n      <td>0.745443</td>\n      <td>0.031113</td>\n      <td>0.710480</td>\n      <td>0.689860</td>\n      <td>-0.099801</td>\n      <td>-0.447067</td>\n      <td>0.787777</td>\n      <td>0.752453</td>\n      <td>1.000000</td>\n    </tr>\n  </tbody>\n</table>\n</div>"
     },
     "execution_count": 20,
     "metadata": {},
     "output_type": "execute_result"
    }
   ],
   "source": [
    "corr = df.corr()\n",
    "corr"
   ]
  },
  {
   "cell_type": "code",
   "execution_count": 21,
   "metadata": {
    "ExecuteTime": {
     "start_time": "2023-09-04T14:28:11.008286Z",
     "end_time": "2023-09-04T14:28:11.057227Z"
    }
   },
   "outputs": [
    {
     "name": "stderr",
     "output_type": "stream",
     "text": [
      "/var/folders/f1/jvzhrs0d00gg34f_f6mn0l7h0000gn/T/ipykernel_20259/3748490656.py:18: FutureWarning: this method is deprecated in favour of `Styler.format(precision=..)`\n",
      "  corr.style.background_gradient(cmap, axis=1)\\\n"
     ]
    },
    {
     "data": {
      "text/plain": "<pandas.io.formats.style.Styler at 0x7fe7c0f6f3d0>",
      "text/html": "<style type=\"text/css\">\n#T_cefe4 th {\n  font-size: 7pt;\n}\n#T_cefe4 td {\n  padding: 0em 0em;\n}\n#T_cefe4 th:hover {\n  font-size: 12pt;\n}\n#T_cefe4 tr:hover td:hover {\n  max-width: 200px;\n  font-size: 12pt;\n}\n#T_cefe4_row0_col0, #T_cefe4_row1_col1, #T_cefe4_row2_col2, #T_cefe4_row3_col3, #T_cefe4_row4_col4, #T_cefe4_row5_col5, #T_cefe4_row6_col6, #T_cefe4_row7_col7, #T_cefe4_row8_col8 {\n  background-color: #4479bb;\n  color: #f1f1f1;\n  max-width: 80px;\n  font-size: 10pt;\n}\n#T_cefe4_row0_col1, #T_cefe4_row7_col2 {\n  background-color: #d5deea;\n  color: #000000;\n  max-width: 80px;\n  font-size: 10pt;\n}\n#T_cefe4_row0_col2 {\n  background-color: #d8e0eb;\n  color: #000000;\n  max-width: 80px;\n  font-size: 10pt;\n}\n#T_cefe4_row0_col3, #T_cefe4_row3_col0 {\n  background-color: #487cbc;\n  color: #f1f1f1;\n  max-width: 80px;\n  font-size: 10pt;\n}\n#T_cefe4_row0_col4, #T_cefe4_row4_col3 {\n  background-color: #e28799;\n  color: #f1f1f1;\n  max-width: 80px;\n  font-size: 10pt;\n}\n#T_cefe4_row0_col5, #T_cefe4_row1_col2, #T_cefe4_row2_col5, #T_cefe4_row3_col5, #T_cefe4_row4_col2, #T_cefe4_row5_col2, #T_cefe4_row6_col5, #T_cefe4_row7_col5, #T_cefe4_row8_col5 {\n  background-color: #d73c5b;\n  color: #f1f1f1;\n  max-width: 80px;\n  font-size: 10pt;\n}\n#T_cefe4_row0_col6 {\n  background-color: #628ec4;\n  color: #f1f1f1;\n  max-width: 80px;\n  font-size: 10pt;\n}\n#T_cefe4_row0_col7, #T_cefe4_row7_col0 {\n  background-color: #4d7fbe;\n  color: #f1f1f1;\n  max-width: 80px;\n  font-size: 10pt;\n}\n#T_cefe4_row0_col8 {\n  background-color: #86a7d0;\n  color: #f1f1f1;\n  max-width: 80px;\n  font-size: 10pt;\n}\n#T_cefe4_row1_col0 {\n  background-color: #efdde0;\n  color: #000000;\n  max-width: 80px;\n  font-size: 10pt;\n}\n#T_cefe4_row1_col3 {\n  background-color: #f1eaeb;\n  color: #000000;\n  max-width: 80px;\n  font-size: 10pt;\n}\n#T_cefe4_row1_col4 {\n  background-color: #df6d84;\n  color: #f1f1f1;\n  max-width: 80px;\n  font-size: 10pt;\n}\n#T_cefe4_row1_col5 {\n  background-color: #de6b82;\n  color: #f1f1f1;\n  max-width: 80px;\n  font-size: 10pt;\n}\n#T_cefe4_row1_col6 {\n  background-color: #e69ead;\n  color: #000000;\n  max-width: 80px;\n  font-size: 10pt;\n}\n#T_cefe4_row1_col7, #T_cefe4_row8_col1 {\n  background-color: #e9b4be;\n  color: #000000;\n  max-width: 80px;\n  font-size: 10pt;\n}\n#T_cefe4_row1_col8 {\n  background-color: #d84462;\n  color: #f1f1f1;\n  max-width: 80px;\n  font-size: 10pt;\n}\n#T_cefe4_row2_col0 {\n  background-color: #bccce1;\n  color: #000000;\n  max-width: 80px;\n  font-size: 10pt;\n}\n#T_cefe4_row2_col1 {\n  background-color: #edcad1;\n  color: #000000;\n  max-width: 80px;\n  font-size: 10pt;\n}\n#T_cefe4_row2_col3, #T_cefe4_row3_col1 {\n  background-color: #d0dae8;\n  color: #000000;\n  max-width: 80px;\n  font-size: 10pt;\n}\n#T_cefe4_row2_col4 {\n  background-color: #e3889a;\n  color: #f1f1f1;\n  max-width: 80px;\n  font-size: 10pt;\n}\n#T_cefe4_row2_col6 {\n  background-color: #95b1d5;\n  color: #000000;\n  max-width: 80px;\n  font-size: 10pt;\n}\n#T_cefe4_row2_col7 {\n  background-color: #bdcde2;\n  color: #000000;\n  max-width: 80px;\n  font-size: 10pt;\n}\n#T_cefe4_row2_col8, #T_cefe4_row8_col0 {\n  background-color: #81a3ce;\n  color: #f1f1f1;\n  max-width: 80px;\n  font-size: 10pt;\n}\n#T_cefe4_row3_col2 {\n  background-color: #f2ebec;\n  color: #000000;\n  max-width: 80px;\n  font-size: 10pt;\n}\n#T_cefe4_row3_col4 {\n  background-color: #e28497;\n  color: #f1f1f1;\n  max-width: 80px;\n  font-size: 10pt;\n}\n#T_cefe4_row3_col6 {\n  background-color: #779dcb;\n  color: #f1f1f1;\n  max-width: 80px;\n  font-size: 10pt;\n}\n#T_cefe4_row3_col7, #T_cefe4_row7_col3 {\n  background-color: #4f80be;\n  color: #f1f1f1;\n  max-width: 80px;\n  font-size: 10pt;\n}\n#T_cefe4_row3_col8 {\n  background-color: #98b3d6;\n  color: #000000;\n  max-width: 80px;\n  font-size: 10pt;\n}\n#T_cefe4_row4_col0 {\n  background-color: #e18093;\n  color: #f1f1f1;\n  max-width: 80px;\n  font-size: 10pt;\n}\n#T_cefe4_row4_col1 {\n  background-color: #eab7c1;\n  color: #000000;\n  max-width: 80px;\n  font-size: 10pt;\n}\n#T_cefe4_row4_col5 {\n  background-color: #c5d3e4;\n  color: #000000;\n  max-width: 80px;\n  font-size: 10pt;\n}\n#T_cefe4_row4_col6, #T_cefe4_row5_col0 {\n  background-color: #e28194;\n  color: #f1f1f1;\n  max-width: 80px;\n  font-size: 10pt;\n}\n#T_cefe4_row4_col7 {\n  background-color: #e0748a;\n  color: #f1f1f1;\n  max-width: 80px;\n  font-size: 10pt;\n}\n#T_cefe4_row4_col8 {\n  background-color: #df7086;\n  color: #f1f1f1;\n  max-width: 80px;\n  font-size: 10pt;\n}\n#T_cefe4_row5_col1 {\n  background-color: #f1e8ea;\n  color: #000000;\n  max-width: 80px;\n  font-size: 10pt;\n}\n#T_cefe4_row5_col3 {\n  background-color: #e38b9d;\n  color: #f1f1f1;\n  max-width: 80px;\n  font-size: 10pt;\n}\n#T_cefe4_row5_col4 {\n  background-color: #aac0dc;\n  color: #000000;\n  max-width: 80px;\n  font-size: 10pt;\n}\n#T_cefe4_row5_col6 {\n  background-color: #e17a8f;\n  color: #f1f1f1;\n  max-width: 80px;\n  font-size: 10pt;\n}\n#T_cefe4_row5_col7 {\n  background-color: #e0778c;\n  color: #f1f1f1;\n  max-width: 80px;\n  font-size: 10pt;\n}\n#T_cefe4_row5_col8 {\n  background-color: #dd657d;\n  color: #f1f1f1;\n  max-width: 80px;\n  font-size: 10pt;\n}\n#T_cefe4_row6_col0 {\n  background-color: #608dc4;\n  color: #f1f1f1;\n  max-width: 80px;\n  font-size: 10pt;\n}\n#T_cefe4_row6_col1 {\n  background-color: #f0e4e6;\n  color: #000000;\n  max-width: 80px;\n  font-size: 10pt;\n}\n#T_cefe4_row6_col2 {\n  background-color: #a7bedb;\n  color: #000000;\n  max-width: 80px;\n  font-size: 10pt;\n}\n#T_cefe4_row6_col3 {\n  background-color: #759bca;\n  color: #f1f1f1;\n  max-width: 80px;\n  font-size: 10pt;\n}\n#T_cefe4_row6_col4 {\n  background-color: #e48fa0;\n  color: #f1f1f1;\n  max-width: 80px;\n  font-size: 10pt;\n}\n#T_cefe4_row6_col7, #T_cefe4_row7_col6 {\n  background-color: #7299c9;\n  color: #f1f1f1;\n  max-width: 80px;\n  font-size: 10pt;\n}\n#T_cefe4_row6_col8 {\n  background-color: #7a9fcc;\n  color: #f1f1f1;\n  max-width: 80px;\n  font-size: 10pt;\n}\n#T_cefe4_row7_col1 {\n  background-color: #edeef1;\n  color: #000000;\n  max-width: 80px;\n  font-size: 10pt;\n}\n#T_cefe4_row7_col4 {\n  background-color: #e28698;\n  color: #f1f1f1;\n  max-width: 80px;\n  font-size: 10pt;\n}\n#T_cefe4_row7_col8 {\n  background-color: #82a4cf;\n  color: #f1f1f1;\n  max-width: 80px;\n  font-size: 10pt;\n}\n#T_cefe4_row8_col2 {\n  background-color: #89a9d1;\n  color: #f1f1f1;\n  max-width: 80px;\n  font-size: 10pt;\n}\n#T_cefe4_row8_col3 {\n  background-color: #8dacd2;\n  color: #f1f1f1;\n  max-width: 80px;\n  font-size: 10pt;\n}\n#T_cefe4_row8_col4 {\n  background-color: #e492a3;\n  color: #f1f1f1;\n  max-width: 80px;\n  font-size: 10pt;\n}\n#T_cefe4_row8_col6 {\n  background-color: #769ccb;\n  color: #f1f1f1;\n  max-width: 80px;\n  font-size: 10pt;\n}\n#T_cefe4_row8_col7 {\n  background-color: #7ea1cd;\n  color: #f1f1f1;\n  max-width: 80px;\n  font-size: 10pt;\n}\n</style>\n<table id=\"T_cefe4\">\n  <caption>Hover to magify</caption>\n  <thead>\n    <tr>\n      <th class=\"blank level0\" >&nbsp;</th>\n      <th id=\"T_cefe4_level0_col0\" class=\"col_heading level0 col0\" >calories</th>\n      <th id=\"T_cefe4_level0_col1\" class=\"col_heading level0 col1\" >sodium</th>\n      <th id=\"T_cefe4_level0_col2\" class=\"col_heading level0 col2\" >calcium</th>\n      <th id=\"T_cefe4_level0_col3\" class=\"col_heading level0 col3\" >lipides</th>\n      <th id=\"T_cefe4_level0_col4\" class=\"col_heading level0 col4\" >retinol</th>\n      <th id=\"T_cefe4_level0_col5\" class=\"col_heading level0 col5\" >folates</th>\n      <th id=\"T_cefe4_level0_col6\" class=\"col_heading level0 col6\" >proteines</th>\n      <th id=\"T_cefe4_level0_col7\" class=\"col_heading level0 col7\" >cholesterol</th>\n      <th id=\"T_cefe4_level0_col8\" class=\"col_heading level0 col8\" >magnesium</th>\n    </tr>\n  </thead>\n  <tbody>\n    <tr>\n      <th id=\"T_cefe4_level0_row0\" class=\"row_heading level0 row0\" >calories</th>\n      <td id=\"T_cefe4_row0_col0\" class=\"data row0 col0\" >1.00</td>\n      <td id=\"T_cefe4_row0_col1\" class=\"data row0 col1\" >0.45</td>\n      <td id=\"T_cefe4_row0_col2\" class=\"data row0 col2\" >0.43</td>\n      <td id=\"T_cefe4_row0_col3\" class=\"data row0 col3\" >0.98</td>\n      <td id=\"T_cefe4_row0_col4\" class=\"data row0 col4\" >-0.04</td>\n      <td id=\"T_cefe4_row0_col5\" class=\"data row0 col5\" >-0.32</td>\n      <td id=\"T_cefe4_row0_col6\" class=\"data row0 col6\" >0.89</td>\n      <td id=\"T_cefe4_row0_col7\" class=\"data row0 col7\" >0.96</td>\n      <td id=\"T_cefe4_row0_col8\" class=\"data row0 col8\" >0.75</td>\n    </tr>\n    <tr>\n      <th id=\"T_cefe4_level0_row1\" class=\"row_heading level0 row1\" >sodium</th>\n      <td id=\"T_cefe4_row1_col0\" class=\"data row1 col0\" >0.45</td>\n      <td id=\"T_cefe4_row1_col1\" class=\"data row1 col1\" >1.00</td>\n      <td id=\"T_cefe4_row1_col2\" class=\"data row1 col2\" >0.01</td>\n      <td id=\"T_cefe4_row1_col3\" class=\"data row1 col3\" >0.48</td>\n      <td id=\"T_cefe4_row1_col4\" class=\"data row1 col4\" >0.14</td>\n      <td id=\"T_cefe4_row1_col5\" class=\"data row1 col5\" >0.14</td>\n      <td id=\"T_cefe4_row1_col6\" class=\"data row1 col6\" >0.28</td>\n      <td id=\"T_cefe4_row1_col7\" class=\"data row1 col7\" >0.33</td>\n      <td id=\"T_cefe4_row1_col8\" class=\"data row1 col8\" >0.03</td>\n    </tr>\n    <tr>\n      <th id=\"T_cefe4_level0_row2\" class=\"row_heading level0 row2\" >calcium</th>\n      <td id=\"T_cefe4_row2_col0\" class=\"data row2 col0\" >0.43</td>\n      <td id=\"T_cefe4_row2_col1\" class=\"data row2 col1\" >0.01</td>\n      <td id=\"T_cefe4_row2_col2\" class=\"data row2 col2\" >1.00</td>\n      <td id=\"T_cefe4_row2_col3\" class=\"data row2 col3\" >0.34</td>\n      <td id=\"T_cefe4_row2_col4\" class=\"data row2 col4\" >-0.29</td>\n      <td id=\"T_cefe4_row2_col5\" class=\"data row2 col5\" >-0.64</td>\n      <td id=\"T_cefe4_row2_col6\" class=\"data row2 col6\" >0.61</td>\n      <td id=\"T_cefe4_row2_col7\" class=\"data row2 col7\" >0.43</td>\n      <td id=\"T_cefe4_row2_col8\" class=\"data row2 col8\" >0.71</td>\n    </tr>\n    <tr>\n      <th id=\"T_cefe4_level0_row3\" class=\"row_heading level0 row3\" >lipides</th>\n      <td id=\"T_cefe4_row3_col0\" class=\"data row3 col0\" >0.98</td>\n      <td id=\"T_cefe4_row3_col1\" class=\"data row3 col1\" >0.48</td>\n      <td id=\"T_cefe4_row3_col2\" class=\"data row3 col2\" >0.34</td>\n      <td id=\"T_cefe4_row3_col3\" class=\"data row3 col3\" >1.00</td>\n      <td id=\"T_cefe4_row3_col4\" class=\"data row3 col4\" >-0.02</td>\n      <td id=\"T_cefe4_row3_col5\" class=\"data row3 col5\" >-0.28</td>\n      <td id=\"T_cefe4_row3_col6\" class=\"data row3 col6\" >0.81</td>\n      <td id=\"T_cefe4_row3_col7\" class=\"data row3 col7\" >0.96</td>\n      <td id=\"T_cefe4_row3_col8\" class=\"data row3 col8\" >0.69</td>\n    </tr>\n    <tr>\n      <th id=\"T_cefe4_level0_row4\" class=\"row_heading level0 row4\" >retinol</th>\n      <td id=\"T_cefe4_row4_col0\" class=\"data row4 col0\" >-0.04</td>\n      <td id=\"T_cefe4_row4_col1\" class=\"data row4 col1\" >0.14</td>\n      <td id=\"T_cefe4_row4_col2\" class=\"data row4 col2\" >-0.29</td>\n      <td id=\"T_cefe4_row4_col3\" class=\"data row4 col3\" >-0.02</td>\n      <td id=\"T_cefe4_row4_col4\" class=\"data row4 col4\" >1.00</td>\n      <td id=\"T_cefe4_row4_col5\" class=\"data row4 col5\" >0.52</td>\n      <td id=\"T_cefe4_row4_col6\" class=\"data row4 col6\" >-0.04</td>\n      <td id=\"T_cefe4_row4_col7\" class=\"data row4 col7\" >-0.09</td>\n      <td id=\"T_cefe4_row4_col8\" class=\"data row4 col8\" >-0.10</td>\n    </tr>\n    <tr>\n      <th id=\"T_cefe4_level0_row5\" class=\"row_heading level0 row5\" >folates</th>\n      <td id=\"T_cefe4_row5_col0\" class=\"data row5 col0\" >-0.32</td>\n      <td id=\"T_cefe4_row5_col1\" class=\"data row5 col1\" >0.14</td>\n      <td id=\"T_cefe4_row5_col2\" class=\"data row5 col2\" >-0.64</td>\n      <td id=\"T_cefe4_row5_col3\" class=\"data row5 col3\" >-0.28</td>\n      <td id=\"T_cefe4_row5_col4\" class=\"data row5 col4\" >0.52</td>\n      <td id=\"T_cefe4_row5_col5\" class=\"data row5 col5\" >1.00</td>\n      <td id=\"T_cefe4_row5_col6\" class=\"data row5 col6\" >-0.35</td>\n      <td id=\"T_cefe4_row5_col7\" class=\"data row5 col7\" >-0.37</td>\n      <td id=\"T_cefe4_row5_col8\" class=\"data row5 col8\" >-0.45</td>\n    </tr>\n    <tr>\n      <th id=\"T_cefe4_level0_row6\" class=\"row_heading level0 row6\" >proteines</th>\n      <td id=\"T_cefe4_row6_col0\" class=\"data row6 col0\" >0.89</td>\n      <td id=\"T_cefe4_row6_col1\" class=\"data row6 col1\" >0.28</td>\n      <td id=\"T_cefe4_row6_col2\" class=\"data row6 col2\" >0.61</td>\n      <td id=\"T_cefe4_row6_col3\" class=\"data row6 col3\" >0.81</td>\n      <td id=\"T_cefe4_row6_col4\" class=\"data row6 col4\" >-0.04</td>\n      <td id=\"T_cefe4_row6_col5\" class=\"data row6 col5\" >-0.35</td>\n      <td id=\"T_cefe4_row6_col6\" class=\"data row6 col6\" >1.00</td>\n      <td id=\"T_cefe4_row6_col7\" class=\"data row6 col7\" >0.82</td>\n      <td id=\"T_cefe4_row6_col8\" class=\"data row6 col8\" >0.79</td>\n    </tr>\n    <tr>\n      <th id=\"T_cefe4_level0_row7\" class=\"row_heading level0 row7\" >cholesterol</th>\n      <td id=\"T_cefe4_row7_col0\" class=\"data row7 col0\" >0.96</td>\n      <td id=\"T_cefe4_row7_col1\" class=\"data row7 col1\" >0.33</td>\n      <td id=\"T_cefe4_row7_col2\" class=\"data row7 col2\" >0.43</td>\n      <td id=\"T_cefe4_row7_col3\" class=\"data row7 col3\" >0.96</td>\n      <td id=\"T_cefe4_row7_col4\" class=\"data row7 col4\" >-0.09</td>\n      <td id=\"T_cefe4_row7_col5\" class=\"data row7 col5\" >-0.37</td>\n      <td id=\"T_cefe4_row7_col6\" class=\"data row7 col6\" >0.82</td>\n      <td id=\"T_cefe4_row7_col7\" class=\"data row7 col7\" >1.00</td>\n      <td id=\"T_cefe4_row7_col8\" class=\"data row7 col8\" >0.75</td>\n    </tr>\n    <tr>\n      <th id=\"T_cefe4_level0_row8\" class=\"row_heading level0 row8\" >magnesium</th>\n      <td id=\"T_cefe4_row8_col0\" class=\"data row8 col0\" >0.75</td>\n      <td id=\"T_cefe4_row8_col1\" class=\"data row8 col1\" >0.03</td>\n      <td id=\"T_cefe4_row8_col2\" class=\"data row8 col2\" >0.71</td>\n      <td id=\"T_cefe4_row8_col3\" class=\"data row8 col3\" >0.69</td>\n      <td id=\"T_cefe4_row8_col4\" class=\"data row8 col4\" >-0.10</td>\n      <td id=\"T_cefe4_row8_col5\" class=\"data row8 col5\" >-0.45</td>\n      <td id=\"T_cefe4_row8_col6\" class=\"data row8 col6\" >0.79</td>\n      <td id=\"T_cefe4_row8_col7\" class=\"data row8 col7\" >0.75</td>\n      <td id=\"T_cefe4_row8_col8\" class=\"data row8 col8\" >1.00</td>\n    </tr>\n  </tbody>\n</table>\n"
     },
     "execution_count": 21,
     "metadata": {},
     "output_type": "execute_result"
    }
   ],
   "source": [
    "# HeatMap : \n",
    "# https://stackoverflow.com/questions/39409866/correlation-heatmap\n",
    "\n",
    "cmap = cmap=sns.diverging_palette(5, 250, as_cmap=True)\n",
    "\n",
    "def magnify():\n",
    "    return [dict(selector=\"th\",\n",
    "                 props=[(\"font-size\", \"7pt\")]),\n",
    "            dict(selector=\"td\",\n",
    "                 props=[('padding', \"0em 0em\")]),\n",
    "            dict(selector=\"th:hover\",\n",
    "                 props=[(\"font-size\", \"12pt\")]),\n",
    "            dict(selector=\"tr:hover td:hover\",\n",
    "                 props=[('max-width', '200px'),\n",
    "                        ('font-size', '12pt')])\n",
    "]\n",
    "\n",
    "corr.style.background_gradient(cmap, axis=1)\\\n",
    "    .set_properties(**{'max-width': '80px', 'font-size': '10pt'})\\\n",
    "    .set_caption(\"Hover to magify\")\\\n",
    "    .set_precision(2)\\\n",
    "    .set_table_styles(magnify())"
   ]
  },
  {
   "cell_type": "code",
   "execution_count": 22,
   "metadata": {
    "ExecuteTime": {
     "start_time": "2023-09-04T14:28:11.035665Z",
     "end_time": "2023-09-04T14:28:12.282934Z"
    }
   },
   "outputs": [],
   "source": [
    "# bidimensionnelle\n",
    "from pandas.plotting import scatter_matrix\n",
    "scatter_mat = scatter_matrix(df, figsize = (16,10))"
   ]
  },
  {
   "cell_type": "code",
   "execution_count": 23,
   "metadata": {
    "ExecuteTime": {
     "start_time": "2023-09-04T14:28:12.288799Z",
     "end_time": "2023-09-04T14:28:12.469009Z"
    }
   },
   "outputs": [
    {
     "data": {
      "text/plain": "<AxesSubplot:>"
     },
     "execution_count": 23,
     "metadata": {},
     "output_type": "execute_result"
    }
   ],
   "source": [
    "sns.heatmap(corr, xticklabels=corr.columns, yticklabels=corr.columns, annot=True)"
   ]
  },
  {
   "cell_type": "code",
   "execution_count": 24,
   "metadata": {
    "scrolled": true,
    "ExecuteTime": {
     "start_time": "2023-09-04T14:28:12.477610Z",
     "end_time": "2023-09-04T14:28:12.509084Z"
    }
   },
   "outputs": [
    {
     "data": {
      "text/plain": "                    calories    sodium   calcium   lipides   retinol  \\\nFromages                                                               \nCarredelEst         0.726190  0.808537  0.000000  0.765886  0.127866   \nBabybel             0.726190  0.526829  0.523664  0.725753  0.234568   \nBeaufort            0.985119  0.219512  0.712977  1.000000  0.156966   \nBleu                0.809524  0.765854  0.528626  0.852843  0.000000   \nCamembert           0.577381  0.712195  0.546947  0.538462  0.581129   \nCantal              0.883929  0.570732  0.730534  0.849498  0.103175   \nChabichou           0.815476  0.414634  0.055725  0.819398  0.467372   \nChaource            0.660714  0.619512  0.230153  0.735786  0.699295   \nCheddar             1.000000  0.365854  0.418702  0.973244  0.346561   \nComte               0.979167  0.170732  0.564504  0.969900  0.165785   \nCoulomniers         0.708333  0.487805  0.025191  0.742475  0.233686   \nEdam                0.764881  0.307317  0.761832  0.712375  0.252205   \nEmmental            0.916667  0.092683  0.899237  0.869565  0.169312   \nFr.chevrepatemolle  0.404762  0.336585  0.000763  0.505017  1.000000   \nFr.fondu.45         0.660714  0.897561  0.366031  0.688963  0.355379   \nFr.frais20nat.      0.029762  0.046341  0.281298  0.003344  0.113757   \nFr.frais40nat.      0.133929  0.007317  0.084733  0.147157  0.239859   \nMaroilles           0.797619  0.704878  0.626336  0.859532  0.084656   \nMorbier             0.824405  0.641463  0.558779  0.872910  0.180776   \nParmesan            0.925595  0.531707  1.000000  0.806020  0.466490   \nPetitsuisse40       0.214286  0.000000  0.021374  0.234114  0.231922   \nPontlEveque         0.684524  0.490244  0.320992  0.668896  0.140212   \nPyrenees            0.848214  0.512195  0.405725  0.822742  0.126984   \nReblochon           0.711310  0.609756  0.495038  0.709030  0.317460   \nRocquefort          0.892857  1.000000  0.341221  0.929766  0.409171   \nSaintPaulin         0.678571  0.446341  0.719084  0.665552  0.205467   \nTome                0.747024  0.560976  0.201908  0.799331  0.222222   \nVacherin            0.747024  0.287805  0.554962  0.866221  0.106702   \nYaourtlaitent.nat.  0.000000  0.168293  0.546183  0.000000  0.051146   \n\n                     folates  proteines  cholesterol  magnesium  \nFromages                                                         \nCarredelEst         0.826705   0.534810     0.545455   0.243902  \nBabybel             0.147727   0.585443     0.545455   0.414634  \nBeaufort            0.000000   0.712025     1.000000   0.756098  \nBleu                0.747159   0.509494     0.727273   0.414634  \nCamembert           1.000000   0.610759     0.454545   0.243902  \nCantal              0.127841   0.598101     0.727273   0.487805  \nChabichou           0.997159   0.487342     0.636364   0.634146  \nChaource            0.889205   0.433544     0.545455   0.365854  \nCheddar             0.105114   0.693038     0.909091   0.439024  \nComte               0.002841   0.794304     1.000000   1.000000  \nCoulomniers         0.565341   0.518987     0.636364   0.073171  \nEdam                0.122159   0.651899     0.636364   0.829268  \nEmmental            0.034091   0.800633     0.909091   0.853659  \nFr.chevrepatemolle  0.846591   0.221519     0.363636   0.146341  \nFr.fondu.45         0.122159   0.401899     0.545455   0.243902  \nFr.frais20nat.      0.534091   0.132911     0.000000   0.024390  \nFr.frais40nat.      0.607955   0.091772     0.181818   0.000000  \nMaroilles           0.068182   0.515823     0.727273   0.731707  \nMorbier             0.130682   0.617089     0.636364   0.487805  \nParmesan            0.113636   1.000000     0.636364   0.878049  \nPetitsuisse40       0.545455   0.167722     0.090909   0.000000  \nPontlEveque         0.079545   0.537975     0.545455   0.292683  \nPyrenees            0.159091   0.579114     0.727273   0.365854  \nReblochon           0.196023   0.493671     0.636364   0.487805  \nRocquefort          0.343750   0.462025     0.818182   0.365854  \nSaintPaulin         0.156250   0.607595     0.545455   0.390244  \nTome                0.142045   0.560127     0.636364   0.243902  \nVacherin            0.071023   0.427215     0.636364   0.487805  \nYaourtlaitent.nat.  0.048295   0.000000     0.027273   0.097561  ",
      "text/html": "<div>\n<style scoped>\n    .dataframe tbody tr th:only-of-type {\n        vertical-align: middle;\n    }\n\n    .dataframe tbody tr th {\n        vertical-align: top;\n    }\n\n    .dataframe thead th {\n        text-align: right;\n    }\n</style>\n<table border=\"1\" class=\"dataframe\">\n  <thead>\n    <tr style=\"text-align: right;\">\n      <th></th>\n      <th>calories</th>\n      <th>sodium</th>\n      <th>calcium</th>\n      <th>lipides</th>\n      <th>retinol</th>\n      <th>folates</th>\n      <th>proteines</th>\n      <th>cholesterol</th>\n      <th>magnesium</th>\n    </tr>\n    <tr>\n      <th>Fromages</th>\n      <th></th>\n      <th></th>\n      <th></th>\n      <th></th>\n      <th></th>\n      <th></th>\n      <th></th>\n      <th></th>\n      <th></th>\n    </tr>\n  </thead>\n  <tbody>\n    <tr>\n      <th>CarredelEst</th>\n      <td>0.726190</td>\n      <td>0.808537</td>\n      <td>0.000000</td>\n      <td>0.765886</td>\n      <td>0.127866</td>\n      <td>0.826705</td>\n      <td>0.534810</td>\n      <td>0.545455</td>\n      <td>0.243902</td>\n    </tr>\n    <tr>\n      <th>Babybel</th>\n      <td>0.726190</td>\n      <td>0.526829</td>\n      <td>0.523664</td>\n      <td>0.725753</td>\n      <td>0.234568</td>\n      <td>0.147727</td>\n      <td>0.585443</td>\n      <td>0.545455</td>\n      <td>0.414634</td>\n    </tr>\n    <tr>\n      <th>Beaufort</th>\n      <td>0.985119</td>\n      <td>0.219512</td>\n      <td>0.712977</td>\n      <td>1.000000</td>\n      <td>0.156966</td>\n      <td>0.000000</td>\n      <td>0.712025</td>\n      <td>1.000000</td>\n      <td>0.756098</td>\n    </tr>\n    <tr>\n      <th>Bleu</th>\n      <td>0.809524</td>\n      <td>0.765854</td>\n      <td>0.528626</td>\n      <td>0.852843</td>\n      <td>0.000000</td>\n      <td>0.747159</td>\n      <td>0.509494</td>\n      <td>0.727273</td>\n      <td>0.414634</td>\n    </tr>\n    <tr>\n      <th>Camembert</th>\n      <td>0.577381</td>\n      <td>0.712195</td>\n      <td>0.546947</td>\n      <td>0.538462</td>\n      <td>0.581129</td>\n      <td>1.000000</td>\n      <td>0.610759</td>\n      <td>0.454545</td>\n      <td>0.243902</td>\n    </tr>\n    <tr>\n      <th>Cantal</th>\n      <td>0.883929</td>\n      <td>0.570732</td>\n      <td>0.730534</td>\n      <td>0.849498</td>\n      <td>0.103175</td>\n      <td>0.127841</td>\n      <td>0.598101</td>\n      <td>0.727273</td>\n      <td>0.487805</td>\n    </tr>\n    <tr>\n      <th>Chabichou</th>\n      <td>0.815476</td>\n      <td>0.414634</td>\n      <td>0.055725</td>\n      <td>0.819398</td>\n      <td>0.467372</td>\n      <td>0.997159</td>\n      <td>0.487342</td>\n      <td>0.636364</td>\n      <td>0.634146</td>\n    </tr>\n    <tr>\n      <th>Chaource</th>\n      <td>0.660714</td>\n      <td>0.619512</td>\n      <td>0.230153</td>\n      <td>0.735786</td>\n      <td>0.699295</td>\n      <td>0.889205</td>\n      <td>0.433544</td>\n      <td>0.545455</td>\n      <td>0.365854</td>\n    </tr>\n    <tr>\n      <th>Cheddar</th>\n      <td>1.000000</td>\n      <td>0.365854</td>\n      <td>0.418702</td>\n      <td>0.973244</td>\n      <td>0.346561</td>\n      <td>0.105114</td>\n      <td>0.693038</td>\n      <td>0.909091</td>\n      <td>0.439024</td>\n    </tr>\n    <tr>\n      <th>Comte</th>\n      <td>0.979167</td>\n      <td>0.170732</td>\n      <td>0.564504</td>\n      <td>0.969900</td>\n      <td>0.165785</td>\n      <td>0.002841</td>\n      <td>0.794304</td>\n      <td>1.000000</td>\n      <td>1.000000</td>\n    </tr>\n    <tr>\n      <th>Coulomniers</th>\n      <td>0.708333</td>\n      <td>0.487805</td>\n      <td>0.025191</td>\n      <td>0.742475</td>\n      <td>0.233686</td>\n      <td>0.565341</td>\n      <td>0.518987</td>\n      <td>0.636364</td>\n      <td>0.073171</td>\n    </tr>\n    <tr>\n      <th>Edam</th>\n      <td>0.764881</td>\n      <td>0.307317</td>\n      <td>0.761832</td>\n      <td>0.712375</td>\n      <td>0.252205</td>\n      <td>0.122159</td>\n      <td>0.651899</td>\n      <td>0.636364</td>\n      <td>0.829268</td>\n    </tr>\n    <tr>\n      <th>Emmental</th>\n      <td>0.916667</td>\n      <td>0.092683</td>\n      <td>0.899237</td>\n      <td>0.869565</td>\n      <td>0.169312</td>\n      <td>0.034091</td>\n      <td>0.800633</td>\n      <td>0.909091</td>\n      <td>0.853659</td>\n    </tr>\n    <tr>\n      <th>Fr.chevrepatemolle</th>\n      <td>0.404762</td>\n      <td>0.336585</td>\n      <td>0.000763</td>\n      <td>0.505017</td>\n      <td>1.000000</td>\n      <td>0.846591</td>\n      <td>0.221519</td>\n      <td>0.363636</td>\n      <td>0.146341</td>\n    </tr>\n    <tr>\n      <th>Fr.fondu.45</th>\n      <td>0.660714</td>\n      <td>0.897561</td>\n      <td>0.366031</td>\n      <td>0.688963</td>\n      <td>0.355379</td>\n      <td>0.122159</td>\n      <td>0.401899</td>\n      <td>0.545455</td>\n      <td>0.243902</td>\n    </tr>\n    <tr>\n      <th>Fr.frais20nat.</th>\n      <td>0.029762</td>\n      <td>0.046341</td>\n      <td>0.281298</td>\n      <td>0.003344</td>\n      <td>0.113757</td>\n      <td>0.534091</td>\n      <td>0.132911</td>\n      <td>0.000000</td>\n      <td>0.024390</td>\n    </tr>\n    <tr>\n      <th>Fr.frais40nat.</th>\n      <td>0.133929</td>\n      <td>0.007317</td>\n      <td>0.084733</td>\n      <td>0.147157</td>\n      <td>0.239859</td>\n      <td>0.607955</td>\n      <td>0.091772</td>\n      <td>0.181818</td>\n      <td>0.000000</td>\n    </tr>\n    <tr>\n      <th>Maroilles</th>\n      <td>0.797619</td>\n      <td>0.704878</td>\n      <td>0.626336</td>\n      <td>0.859532</td>\n      <td>0.084656</td>\n      <td>0.068182</td>\n      <td>0.515823</td>\n      <td>0.727273</td>\n      <td>0.731707</td>\n    </tr>\n    <tr>\n      <th>Morbier</th>\n      <td>0.824405</td>\n      <td>0.641463</td>\n      <td>0.558779</td>\n      <td>0.872910</td>\n      <td>0.180776</td>\n      <td>0.130682</td>\n      <td>0.617089</td>\n      <td>0.636364</td>\n      <td>0.487805</td>\n    </tr>\n    <tr>\n      <th>Parmesan</th>\n      <td>0.925595</td>\n      <td>0.531707</td>\n      <td>1.000000</td>\n      <td>0.806020</td>\n      <td>0.466490</td>\n      <td>0.113636</td>\n      <td>1.000000</td>\n      <td>0.636364</td>\n      <td>0.878049</td>\n    </tr>\n    <tr>\n      <th>Petitsuisse40</th>\n      <td>0.214286</td>\n      <td>0.000000</td>\n      <td>0.021374</td>\n      <td>0.234114</td>\n      <td>0.231922</td>\n      <td>0.545455</td>\n      <td>0.167722</td>\n      <td>0.090909</td>\n      <td>0.000000</td>\n    </tr>\n    <tr>\n      <th>PontlEveque</th>\n      <td>0.684524</td>\n      <td>0.490244</td>\n      <td>0.320992</td>\n      <td>0.668896</td>\n      <td>0.140212</td>\n      <td>0.079545</td>\n      <td>0.537975</td>\n      <td>0.545455</td>\n      <td>0.292683</td>\n    </tr>\n    <tr>\n      <th>Pyrenees</th>\n      <td>0.848214</td>\n      <td>0.512195</td>\n      <td>0.405725</td>\n      <td>0.822742</td>\n      <td>0.126984</td>\n      <td>0.159091</td>\n      <td>0.579114</td>\n      <td>0.727273</td>\n      <td>0.365854</td>\n    </tr>\n    <tr>\n      <th>Reblochon</th>\n      <td>0.711310</td>\n      <td>0.609756</td>\n      <td>0.495038</td>\n      <td>0.709030</td>\n      <td>0.317460</td>\n      <td>0.196023</td>\n      <td>0.493671</td>\n      <td>0.636364</td>\n      <td>0.487805</td>\n    </tr>\n    <tr>\n      <th>Rocquefort</th>\n      <td>0.892857</td>\n      <td>1.000000</td>\n      <td>0.341221</td>\n      <td>0.929766</td>\n      <td>0.409171</td>\n      <td>0.343750</td>\n      <td>0.462025</td>\n      <td>0.818182</td>\n      <td>0.365854</td>\n    </tr>\n    <tr>\n      <th>SaintPaulin</th>\n      <td>0.678571</td>\n      <td>0.446341</td>\n      <td>0.719084</td>\n      <td>0.665552</td>\n      <td>0.205467</td>\n      <td>0.156250</td>\n      <td>0.607595</td>\n      <td>0.545455</td>\n      <td>0.390244</td>\n    </tr>\n    <tr>\n      <th>Tome</th>\n      <td>0.747024</td>\n      <td>0.560976</td>\n      <td>0.201908</td>\n      <td>0.799331</td>\n      <td>0.222222</td>\n      <td>0.142045</td>\n      <td>0.560127</td>\n      <td>0.636364</td>\n      <td>0.243902</td>\n    </tr>\n    <tr>\n      <th>Vacherin</th>\n      <td>0.747024</td>\n      <td>0.287805</td>\n      <td>0.554962</td>\n      <td>0.866221</td>\n      <td>0.106702</td>\n      <td>0.071023</td>\n      <td>0.427215</td>\n      <td>0.636364</td>\n      <td>0.487805</td>\n    </tr>\n    <tr>\n      <th>Yaourtlaitent.nat.</th>\n      <td>0.000000</td>\n      <td>0.168293</td>\n      <td>0.546183</td>\n      <td>0.000000</td>\n      <td>0.051146</td>\n      <td>0.048295</td>\n      <td>0.000000</td>\n      <td>0.027273</td>\n      <td>0.097561</td>\n    </tr>\n  </tbody>\n</table>\n</div>"
     },
     "execution_count": 24,
     "metadata": {},
     "output_type": "execute_result"
    }
   ],
   "source": [
    "# from sklearn.preprocessing import scale\n",
    "from sklearn.preprocessing import MinMaxScaler\n",
    "min_max = MinMaxScaler()\n",
    "min_max\n",
    "min_max.fit(df)\n",
    "min_max.data_min_\n",
    "min_max.data_max_\n",
    "min_max.transform(df)\n",
    "pd.DataFrame(min_max.transform(df), columns=df.columns, index=df.index).boxplot(rot = 45)\n",
    "df_minmax = pd.DataFrame(min_max.fit_transform(df), columns=df.columns, index=df.index)\n",
    "df_minmax\n",
    "\n",
    "# df_scale = scale(df)\n",
    "# df_scale\n",
    "# pd.DataFrame(df_scale, columns = df.columns, index=df.index).describe()\n"
   ]
  },
  {
   "cell_type": "code",
   "execution_count": 25,
   "metadata": {
    "ExecuteTime": {
     "start_time": "2023-09-04T14:28:12.511309Z",
     "end_time": "2023-09-04T14:28:12.524553Z"
    }
   },
   "outputs": [
    {
     "data": {
      "text/plain": "         calories      sodium     calcium    lipides     retinol    folates  \\\ncount   29.000000   29.000000   29.000000  29.000000   29.000000  29.000000   \nmean   300.034483  210.086207  185.734483  24.158621   67.562069  13.010345   \nstd     91.914356  108.678923   72.528882   8.129642   24.163098  11.723339   \nmin     70.000000   22.000000   72.600000   3.400000   37.100000   1.200000   \n25%    292.000000  140.000000  132.900000  23.400000   51.600000   4.900000   \n50%    321.000000  223.000000  202.300000  26.300000   62.300000   6.400000   \n75%    355.000000  276.000000  220.500000  29.100000   76.400000  21.100000   \nmax    406.000000  432.000000  334.600000  33.300000  150.500000  36.400000   \n\n       proteines  cholesterol  magnesium  \ncount  29.000000    29.000000  29.000000  \nmean   20.168966    74.586207  26.965517  \nstd     6.959788    28.245755  11.318388  \nmin     4.100000    10.000000  10.000000  \n25%    17.800000    70.000000  20.000000  \n50%    21.000000    80.000000  26.000000  \n75%    23.400000    90.000000  30.000000  \nmax    35.700000   120.000000  51.000000  ",
      "text/html": "<div>\n<style scoped>\n    .dataframe tbody tr th:only-of-type {\n        vertical-align: middle;\n    }\n\n    .dataframe tbody tr th {\n        vertical-align: top;\n    }\n\n    .dataframe thead th {\n        text-align: right;\n    }\n</style>\n<table border=\"1\" class=\"dataframe\">\n  <thead>\n    <tr style=\"text-align: right;\">\n      <th></th>\n      <th>calories</th>\n      <th>sodium</th>\n      <th>calcium</th>\n      <th>lipides</th>\n      <th>retinol</th>\n      <th>folates</th>\n      <th>proteines</th>\n      <th>cholesterol</th>\n      <th>magnesium</th>\n    </tr>\n  </thead>\n  <tbody>\n    <tr>\n      <th>count</th>\n      <td>29.000000</td>\n      <td>29.000000</td>\n      <td>29.000000</td>\n      <td>29.000000</td>\n      <td>29.000000</td>\n      <td>29.000000</td>\n      <td>29.000000</td>\n      <td>29.000000</td>\n      <td>29.000000</td>\n    </tr>\n    <tr>\n      <th>mean</th>\n      <td>300.034483</td>\n      <td>210.086207</td>\n      <td>185.734483</td>\n      <td>24.158621</td>\n      <td>67.562069</td>\n      <td>13.010345</td>\n      <td>20.168966</td>\n      <td>74.586207</td>\n      <td>26.965517</td>\n    </tr>\n    <tr>\n      <th>std</th>\n      <td>91.914356</td>\n      <td>108.678923</td>\n      <td>72.528882</td>\n      <td>8.129642</td>\n      <td>24.163098</td>\n      <td>11.723339</td>\n      <td>6.959788</td>\n      <td>28.245755</td>\n      <td>11.318388</td>\n    </tr>\n    <tr>\n      <th>min</th>\n      <td>70.000000</td>\n      <td>22.000000</td>\n      <td>72.600000</td>\n      <td>3.400000</td>\n      <td>37.100000</td>\n      <td>1.200000</td>\n      <td>4.100000</td>\n      <td>10.000000</td>\n      <td>10.000000</td>\n    </tr>\n    <tr>\n      <th>25%</th>\n      <td>292.000000</td>\n      <td>140.000000</td>\n      <td>132.900000</td>\n      <td>23.400000</td>\n      <td>51.600000</td>\n      <td>4.900000</td>\n      <td>17.800000</td>\n      <td>70.000000</td>\n      <td>20.000000</td>\n    </tr>\n    <tr>\n      <th>50%</th>\n      <td>321.000000</td>\n      <td>223.000000</td>\n      <td>202.300000</td>\n      <td>26.300000</td>\n      <td>62.300000</td>\n      <td>6.400000</td>\n      <td>21.000000</td>\n      <td>80.000000</td>\n      <td>26.000000</td>\n    </tr>\n    <tr>\n      <th>75%</th>\n      <td>355.000000</td>\n      <td>276.000000</td>\n      <td>220.500000</td>\n      <td>29.100000</td>\n      <td>76.400000</td>\n      <td>21.100000</td>\n      <td>23.400000</td>\n      <td>90.000000</td>\n      <td>30.000000</td>\n    </tr>\n    <tr>\n      <th>max</th>\n      <td>406.000000</td>\n      <td>432.000000</td>\n      <td>334.600000</td>\n      <td>33.300000</td>\n      <td>150.500000</td>\n      <td>36.400000</td>\n      <td>35.700000</td>\n      <td>120.000000</td>\n      <td>51.000000</td>\n    </tr>\n  </tbody>\n</table>\n</div>"
     },
     "execution_count": 25,
     "metadata": {},
     "output_type": "execute_result"
    }
   ],
   "source": [
    "df.describe()"
   ]
  },
  {
   "cell_type": "code",
   "execution_count": 26,
   "metadata": {
    "ExecuteTime": {
     "start_time": "2023-09-04T14:28:12.528609Z",
     "end_time": "2023-09-04T14:28:12.572957Z"
    }
   },
   "outputs": [
    {
     "data": {
      "text/plain": "        calories     sodium    calcium    lipides    retinol    folates  \\\ncount  29.000000  29.000000  29.000000  29.000000  29.000000  29.000000   \nmean    0.684626   0.458747   0.431811   0.694268   0.268625   0.335521   \nstd     0.273555   0.265071   0.276828   0.271894   0.213078   0.333049   \nmin     0.000000   0.000000   0.000000   0.000000   0.000000   0.000000   \n25%     0.660714   0.287805   0.230153   0.668896   0.127866   0.105114   \n50%     0.747024   0.490244   0.495038   0.765886   0.222222   0.147727   \n75%     0.848214   0.619512   0.564504   0.859532   0.346561   0.565341   \nmax     1.000000   1.000000   1.000000   1.000000   1.000000   1.000000   \n\n       proteines  cholesterol  magnesium  \ncount  29.000000    29.000000  29.000000  \nmean    0.508512     0.587147   0.413793  \nstd     0.220246     0.256780   0.276058  \nmin     0.000000     0.000000   0.000000  \n25%     0.433544     0.545455   0.243902  \n50%     0.534810     0.636364   0.390244  \n75%     0.610759     0.727273   0.487805  \nmax     1.000000     1.000000   1.000000  ",
      "text/html": "<div>\n<style scoped>\n    .dataframe tbody tr th:only-of-type {\n        vertical-align: middle;\n    }\n\n    .dataframe tbody tr th {\n        vertical-align: top;\n    }\n\n    .dataframe thead th {\n        text-align: right;\n    }\n</style>\n<table border=\"1\" class=\"dataframe\">\n  <thead>\n    <tr style=\"text-align: right;\">\n      <th></th>\n      <th>calories</th>\n      <th>sodium</th>\n      <th>calcium</th>\n      <th>lipides</th>\n      <th>retinol</th>\n      <th>folates</th>\n      <th>proteines</th>\n      <th>cholesterol</th>\n      <th>magnesium</th>\n    </tr>\n  </thead>\n  <tbody>\n    <tr>\n      <th>count</th>\n      <td>29.000000</td>\n      <td>29.000000</td>\n      <td>29.000000</td>\n      <td>29.000000</td>\n      <td>29.000000</td>\n      <td>29.000000</td>\n      <td>29.000000</td>\n      <td>29.000000</td>\n      <td>29.000000</td>\n    </tr>\n    <tr>\n      <th>mean</th>\n      <td>0.684626</td>\n      <td>0.458747</td>\n      <td>0.431811</td>\n      <td>0.694268</td>\n      <td>0.268625</td>\n      <td>0.335521</td>\n      <td>0.508512</td>\n      <td>0.587147</td>\n      <td>0.413793</td>\n    </tr>\n    <tr>\n      <th>std</th>\n      <td>0.273555</td>\n      <td>0.265071</td>\n      <td>0.276828</td>\n      <td>0.271894</td>\n      <td>0.213078</td>\n      <td>0.333049</td>\n      <td>0.220246</td>\n      <td>0.256780</td>\n      <td>0.276058</td>\n    </tr>\n    <tr>\n      <th>min</th>\n      <td>0.000000</td>\n      <td>0.000000</td>\n      <td>0.000000</td>\n      <td>0.000000</td>\n      <td>0.000000</td>\n      <td>0.000000</td>\n      <td>0.000000</td>\n      <td>0.000000</td>\n      <td>0.000000</td>\n    </tr>\n    <tr>\n      <th>25%</th>\n      <td>0.660714</td>\n      <td>0.287805</td>\n      <td>0.230153</td>\n      <td>0.668896</td>\n      <td>0.127866</td>\n      <td>0.105114</td>\n      <td>0.433544</td>\n      <td>0.545455</td>\n      <td>0.243902</td>\n    </tr>\n    <tr>\n      <th>50%</th>\n      <td>0.747024</td>\n      <td>0.490244</td>\n      <td>0.495038</td>\n      <td>0.765886</td>\n      <td>0.222222</td>\n      <td>0.147727</td>\n      <td>0.534810</td>\n      <td>0.636364</td>\n      <td>0.390244</td>\n    </tr>\n    <tr>\n      <th>75%</th>\n      <td>0.848214</td>\n      <td>0.619512</td>\n      <td>0.564504</td>\n      <td>0.859532</td>\n      <td>0.346561</td>\n      <td>0.565341</td>\n      <td>0.610759</td>\n      <td>0.727273</td>\n      <td>0.487805</td>\n    </tr>\n    <tr>\n      <th>max</th>\n      <td>1.000000</td>\n      <td>1.000000</td>\n      <td>1.000000</td>\n      <td>1.000000</td>\n      <td>1.000000</td>\n      <td>1.000000</td>\n      <td>1.000000</td>\n      <td>1.000000</td>\n      <td>1.000000</td>\n    </tr>\n  </tbody>\n</table>\n</div>"
     },
     "execution_count": 26,
     "metadata": {},
     "output_type": "execute_result"
    }
   ],
   "source": [
    "pd.DataFrame(df_minmax, columns=df.columns, index=df.index).describe()"
   ]
  },
  {
   "cell_type": "code",
   "execution_count": 27,
   "metadata": {
    "ExecuteTime": {
     "start_time": "2023-09-04T14:28:12.540575Z",
     "end_time": "2023-09-04T14:28:12.608718Z"
    }
   },
   "outputs": [
    {
     "data": {
      "text/plain": "<AxesSubplot:>"
     },
     "execution_count": 27,
     "metadata": {},
     "output_type": "execute_result"
    }
   ],
   "source": [
    "pd.DataFrame(df_minmax).boxplot()"
   ]
  },
  {
   "cell_type": "code",
   "execution_count": 28,
   "metadata": {
    "ExecuteTime": {
     "start_time": "2023-09-04T14:28:12.575406Z",
     "end_time": "2023-09-04T14:28:12.630098Z"
    }
   },
   "outputs": [
    {
     "data": {
      "text/plain": "<AxesSubplot:>"
     },
     "execution_count": 28,
     "metadata": {},
     "output_type": "execute_result"
    }
   ],
   "source": [
    "pd.DataFrame(df).boxplot()"
   ]
  },
  {
   "cell_type": "code",
   "execution_count": 29,
   "metadata": {
    "ExecuteTime": {
     "start_time": "2023-09-04T14:28:12.605933Z",
     "end_time": "2023-09-04T14:28:12.644418Z"
    }
   },
   "outputs": [
    {
     "data": {
      "text/plain": "KMeans(n_clusters=4, random_state=42)"
     },
     "execution_count": 29,
     "metadata": {},
     "output_type": "execute_result"
    }
   ],
   "source": [
    "# Kmeans sur le df_minmax\n",
    "from sklearn import cluster\n",
    "kmeans_minmax = cluster.KMeans(n_clusters=4, random_state=42)\n",
    "kmeans_minmax.fit(df_minmax)"
   ]
  },
  {
   "cell_type": "code",
   "execution_count": 33,
   "metadata": {
    "ExecuteTime": {
     "start_time": "2023-09-04T14:30:44.591422Z",
     "end_time": "2023-09-04T14:30:44.609833Z"
    }
   },
   "outputs": [
    {
     "data": {
      "text/plain": "array([0, 1, 3, 1, 0, 1, 0, 0, 1, 3, 0, 3, 3, 0, 1, 2, 2, 1, 1, 3, 2, 1,\n       1, 1, 1, 1, 1, 1, 2], dtype=int32)"
     },
     "execution_count": 33,
     "metadata": {},
     "output_type": "execute_result"
    }
   ],
   "source": [
    "kmeans_minmax.n_iter_\n",
    "kmeans_minmax.labels_\n",
    "# [0, 1, 3, 1, 0, 1, 0, 0, 1, 3, 0, 3, 3, 0, 1, 2, 2, 1, 1, 3, 2, 1,\n",
    "#        1, 1, 1, 1, 1, 1, 2]"
   ]
  },
  {
   "cell_type": "code",
   "execution_count": 50,
   "metadata": {},
   "outputs": [
    {
     "ename": "AttributeError",
     "evalue": "'KMeans' object has no attribute 'inertia'",
     "output_type": "error",
     "traceback": [
      "\u001B[0;31m---------------------------------------------------------------------------\u001B[0m",
      "\u001B[0;31mAttributeError\u001B[0m                            Traceback (most recent call last)",
      "\u001B[0;32m/var/folders/f1/jvzhrs0d00gg34f_f6mn0l7h0000gn/T/ipykernel_20259/3675290348.py\u001B[0m in \u001B[0;36m<module>\u001B[0;34m\u001B[0m\n\u001B[0;32m----> 1\u001B[0;31m \u001B[0mkmeans_minmax\u001B[0m\u001B[0;34m.\u001B[0m\u001B[0minertia\u001B[0m\u001B[0;34m\u001B[0m\u001B[0;34m\u001B[0m\u001B[0m\n\u001B[0m\u001B[1;32m      2\u001B[0m \u001B[0mkmeans\u001B[0m\u001B[0;34m.\u001B[0m\u001B[0minertia\u001B[0m\u001B[0;34m\u001B[0m\u001B[0;34m\u001B[0m\u001B[0m\n",
      "\u001B[0;31mAttributeError\u001B[0m: 'KMeans' object has no attribute 'inertia'"
     ]
    }
   ],
   "source": [
    "kmeans_minmax.inertia\n",
    "kmeans.inertia"
   ]
  },
  {
   "cell_type": "code",
   "execution_count": null,
   "metadata": {},
   "outputs": [],
   "source": [
    "# Kmeans sur le df d'origine\n",
    "kmeans_orig = cluster.KMeans(n_clusters=4, random_state=42)\n",
    "kmeans_orig.fit(df)\n",
    "var = kmeans_orig.labels_\n",
    "kmeans_orig.n_iter_"
   ]
  },
  {
   "cell_type": "code",
   "execution_count": 46,
   "metadata": {},
   "outputs": [
    {
     "ename": "NameError",
     "evalue": "name 'kmeans_orig' is not defined",
     "output_type": "error",
     "traceback": [
      "\u001B[0;31m---------------------------------------------------------------------------\u001B[0m",
      "\u001B[0;31mNameError\u001B[0m                                 Traceback (most recent call last)",
      "\u001B[0;32m/var/folders/f1/jvzhrs0d00gg34f_f6mn0l7h0000gn/T/ipykernel_20259/961722078.py\u001B[0m in \u001B[0;36m<module>\u001B[0;34m\u001B[0m\n\u001B[1;32m      1\u001B[0m \u001B[0mdf\u001B[0m\u001B[0;34m[\u001B[0m\u001B[0;34m'cl_minmax'\u001B[0m\u001B[0;34m]\u001B[0m\u001B[0;34m=\u001B[0m\u001B[0mkmeans_minmax\u001B[0m\u001B[0;34m.\u001B[0m\u001B[0mlabels_\u001B[0m\u001B[0;34m\u001B[0m\u001B[0;34m\u001B[0m\u001B[0m\n\u001B[1;32m      2\u001B[0m \u001B[0mdf\u001B[0m\u001B[0;34m.\u001B[0m\u001B[0msort_values\u001B[0m\u001B[0;34m(\u001B[0m\u001B[0;34m'cl_minmax'\u001B[0m\u001B[0;34m)\u001B[0m\u001B[0;34m\u001B[0m\u001B[0;34m\u001B[0m\u001B[0m\n\u001B[0;32m----> 3\u001B[0;31m \u001B[0mdf\u001B[0m\u001B[0;34m[\u001B[0m\u001B[0;34m'cl_orig'\u001B[0m\u001B[0;34m]\u001B[0m\u001B[0;34m=\u001B[0m\u001B[0mkmeans_orig\u001B[0m\u001B[0;34m.\u001B[0m\u001B[0mlabels_\u001B[0m\u001B[0;34m\u001B[0m\u001B[0;34m\u001B[0m\u001B[0m\n\u001B[0m\u001B[1;32m      4\u001B[0m \u001B[0mdf\u001B[0m\u001B[0;34m.\u001B[0m\u001B[0msort_values\u001B[0m\u001B[0;34m(\u001B[0m\u001B[0;34m'cl_orig'\u001B[0m\u001B[0;34m)\u001B[0m\u001B[0;34m\u001B[0m\u001B[0;34m\u001B[0m\u001B[0m\n\u001B[1;32m      5\u001B[0m \u001B[0;31m# df\u001B[0m\u001B[0;34m\u001B[0m\u001B[0;34m\u001B[0m\u001B[0m\n",
      "\u001B[0;31mNameError\u001B[0m: name 'kmeans_orig' is not defined"
     ]
    }
   ],
   "source": [
    "df['cl_minmax']=kmeans_minmax.labels_\n",
    "df.sort_values('cl_minmax')\n",
    "df['cl_orig']=kmeans_orig.labels_\n",
    "df.sort_values('cl_orig')\n",
    "# df"
   ]
  },
  {
   "cell_type": "code",
   "execution_count": 45,
   "metadata": {},
   "outputs": [
    {
     "ename": "AttributeError",
     "evalue": "'KMeans' object has no attribute 'cluster_centers'",
     "output_type": "error",
     "traceback": [
      "\u001B[0;31m---------------------------------------------------------------------------\u001B[0m",
      "\u001B[0;31mAttributeError\u001B[0m                            Traceback (most recent call last)",
      "\u001B[0;32m/var/folders/f1/jvzhrs0d00gg34f_f6mn0l7h0000gn/T/ipykernel_20259/3565827148.py\u001B[0m in \u001B[0;36m<module>\u001B[0;34m\u001B[0m\n\u001B[1;32m      1\u001B[0m \u001B[0my_kmeans\u001B[0m \u001B[0;34m=\u001B[0m \u001B[0mkmeans_minmax\u001B[0m\u001B[0;34m.\u001B[0m\u001B[0mpredict\u001B[0m\u001B[0;34m(\u001B[0m\u001B[0mdf_minmax\u001B[0m\u001B[0;34m)\u001B[0m\u001B[0;34m\u001B[0m\u001B[0;34m\u001B[0m\u001B[0m\n\u001B[1;32m      2\u001B[0m \u001B[0my_kmeans\u001B[0m\u001B[0;34m\u001B[0m\u001B[0;34m\u001B[0m\u001B[0m\n\u001B[0;32m----> 3\u001B[0;31m \u001B[0mcenters\u001B[0m \u001B[0;34m=\u001B[0m \u001B[0mkmeans_minmax\u001B[0m\u001B[0;34m.\u001B[0m\u001B[0mcluster_centers\u001B[0m\u001B[0;34m\u001B[0m\u001B[0;34m\u001B[0m\u001B[0m\n\u001B[0m\u001B[1;32m      4\u001B[0m \u001B[0mcenters\u001B[0m\u001B[0;34m\u001B[0m\u001B[0;34m\u001B[0m\u001B[0m\n\u001B[1;32m      5\u001B[0m  \u001B[0;31m#plt.figure()\u001B[0m\u001B[0;34m\u001B[0m\u001B[0;34m\u001B[0m\u001B[0m\n",
      "\u001B[0;31mAttributeError\u001B[0m: 'KMeans' object has no attribute 'cluster_centers'"
     ]
    }
   ],
   "source": [
    "y_kmeans = kmeans_minmax.predict(df_minmax)\n",
    "y_kmeans\n",
    "centers = kmeans_minmax.cluster_centers\n",
    "centers\n",
    " #plt.figure()\n",
    "plt.scatter(df_minmax[ : , 0], df_minmax[ : , 1], c=y_kmeans, s=50, cmap='viridis')\n",
    "colmap = {1: 'r', 2: 'g', 3: 'b', 4: 'y'}\n",
    "plt.scatter(centers[:, 0], centers[:, 1], c='black', s=200, alpha=0.5)"
   ]
  },
  {
   "cell_type": "code",
   "execution_count": 40,
   "metadata": {
    "ExecuteTime": {
     "start_time": "2023-09-04T14:33:43.173094Z",
     "end_time": "2023-09-04T14:33:43.177646Z"
    }
   },
   "outputs": [
    {
     "data": {
      "text/plain": "4.789529981536394"
     },
     "execution_count": 40,
     "metadata": {},
     "output_type": "execute_result"
    }
   ],
   "source": [
    "# matrice des distance\n",
    "pd.DataFrame(kmeans_minmax.transform(df_minmax))\n",
    "# Inertie\n",
    "kmeans_minmax.inertia_"
   ]
  },
  {
   "cell_type": "code",
   "execution_count": 42,
   "metadata": {
    "ExecuteTime": {
     "start_time": "2023-09-04T14:33:52.094212Z",
     "end_time": "2023-09-04T14:33:52.186766Z"
    }
   },
   "outputs": [
    {
     "name": "stdout",
     "output_type": "stream",
     "text": [
      "*** For n_clusters = 2, inertia is 10.459237045898446 ***\n",
      "\n",
      "*** For n_clusters = 3, inertia is 6.725377741461454 ***\n",
      "\n",
      "*** For n_clusters = 4, inertia is 4.789529981536394 ***\n",
      "\n",
      "*** For n_clusters = 5, inertia is 4.057345689962401 ***\n",
      "\n",
      "*** For n_clusters = 6, inertia is 3.5859413623113 ***\n",
      "\n",
      "*** For n_clusters = 7, inertia is 3.2007493664443203 ***\n",
      "\n",
      "*** For n_clusters = 8, inertia is 2.842629247437264 ***\n",
      "\n",
      "*** For n_clusters = 9, inertia is 2.503422005580421 ***\n",
      "\n",
      "*** For n_clusters = 10, inertia is 2.1132384593902382 ***\n",
      "\n"
     ]
    },
    {
     "data": {
      "text/plain": "Text(0.5, 1.0, 'Optimal nb of clusters')"
     },
     "execution_count": 42,
     "metadata": {},
     "output_type": "execute_result"
    }
   ],
   "source": [
    "scores = {}\n",
    "for k in range(2, 11):\n",
    "    km = cluster.KMeans(n_clusters=k, random_state=42)\n",
    "    km.fit(df_minmax)\n",
    "    scores[k] = km.inertia_\n",
    "    print(f'*** For n_clusters = {k}, inertia is {km.inertia_} ***\\n')\n",
    "plt.figure()\n",
    "plt.plot(list(scores.keys()), list(scores.values()))\n",
    "plt.xlabel(\"Number of cluster\")\n",
    "plt.ylabel(\"inertia\")\n",
    "plt.title(\"Optimal nb of clusters\")"
   ]
  },
  {
   "cell_type": "code",
   "execution_count": null,
   "metadata": {
    "ExecuteTime": {
     "start_time": "2023-09-04T14:33:58.015038Z",
     "end_time": "2023-09-04T14:33:58.121120Z"
    }
   },
   "outputs": [],
   "source": [
    "from sklearn import metrics\n",
    "\n",
    "# Utilisation de la métrique \"silhouette\"\n",
    "# Faire varier le nombre de clusters de 2 à 10\n",
    "scores = []\n",
    "for k in range(2, 11):\n",
    "    km = cluster.KMeans(n_clusters = k, random_state = 42)\n",
    "    km.fit(df_minmax)\n",
    "    score = metrics.silhouette_score(df_minmax, km.labels_)\n",
    "    scores.append(score)\n",
    "    print(f'*** For n_clusters={k}, The Silhouette Coefficient is {score} ***\\n')\n",
    "\n",
    "print(scores)\n",
    "# S :\n",
    "# [0.46125628440580635, 0.40294238189905895, 0.41627447069733386, 0.3900272705972848, 0.3228464903008829, 0.3473776041463943, 0.3412276622157032, 0.25028718369271796, 0.22147311807421863]\n",
    "\n",
    "# Graphique\n",
    "plt.figure()\n",
    "plt.title(\"Silhouette\")\n",
    "plt.xlabel(\"# of clusters\")\n",
    "plt.plot(range(2, 11, 1), scores)\n",
    "plt.title(\"Optimal nb of clusters\")"
   ]
  },
  {
   "cell_type": "code",
   "execution_count": null,
   "metadata": {},
   "outputs": [],
   "source": [
    "import sklearn\n",
    "sklearn.__version__"
   ]
  },
  {
   "cell_type": "code",
   "execution_count": null,
   "metadata": {},
   "outputs": [],
   "source": [
    "from sklearn.cluster import KMeans"
   ]
  },
  {
   "cell_type": "code",
   "execution_count": null,
   "metadata": {},
   "outputs": [],
   "source": [
    "kmeans = KMeans(n_clusters=3, random_state=42)"
   ]
  },
  {
   "cell_type": "code",
   "execution_count": null,
   "metadata": {},
   "outputs": [],
   "source": [
    "kmeans.fit(df)"
   ]
  },
  {
   "cell_type": "code",
   "execution_count": null,
   "metadata": {},
   "outputs": [],
   "source": [
    "cl0 = kmeans.labels_\n",
    "cl0"
   ]
  },
  {
   "cell_type": "code",
   "execution_count": null,
   "metadata": {},
   "outputs": [],
   "source": []
  }
 ],
 "metadata": {
  "interpreter": {
   "hash": "da03a2949bd7f7e1e2f8a272eaea5cb5c8effd8622bbe3cc4e7f8a7d557202f6"
  },
  "kernelspec": {
   "display_name": "Python 3 (ipykernel)",
   "language": "python",
   "name": "python3"
  },
  "language_info": {
   "codemirror_mode": {
    "name": "ipython",
    "version": 3
   },
   "file_extension": ".py",
   "mimetype": "text/x-python",
   "name": "python",
   "nbconvert_exporter": "python",
   "pygments_lexer": "ipython3",
   "version": "3.7.6"
  }
 },
 "nbformat": 4,
 "nbformat_minor": 4
}
